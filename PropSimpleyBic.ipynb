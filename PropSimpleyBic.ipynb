{
 "cells": [
  {
   "cell_type": "markdown",
   "id": "d19457c0-c144-400d-9e2e-5fa8239360e0",
   "metadata": {},
   "source": [
    "Casos de logica matemática. Proposiciones simple y bicondicional.\n",
    "Se desarrolló una función para cada caso\n",
    "____________________________________________________________________"
   ]
  },
  {
   "cell_type": "code",
   "execution_count": 77,
   "id": "cb88c947-c2f8-484a-a563-b0ba526e2296",
   "metadata": {},
   "outputs": [
    {
     "name": "stdout",
     "output_type": "stream",
     "text": [
      "False\n"
     ]
    }
   ],
   "source": [
    "p = False\n",
    "q = True\n",
    "r = True\n",
    "print(SimpleBd(p,q,r))"
   ]
  },
  {
   "cell_type": "code",
   "execution_count": 57,
   "id": "ad099664-6338-49ef-8a8f-7f7bd0012602",
   "metadata": {},
   "outputs": [],
   "source": [
    "#caso B.a.\n",
    "def SimpleBa(p, q , r):\n",
    "    A = p and q\n",
    "    B = r\n",
    "    return (A and B) \\\n",
    "    or (not A and not B)\n"
   ]
  },
  {
   "cell_type": "code",
   "execution_count": 58,
   "id": "9e5f323c-8ef2-482c-8e56-e58f5179ad32",
   "metadata": {},
   "outputs": [],
   "source": [
    "#caso B.b.\n",
    "def SimpleBb(p, q , r):\n",
    "    A = p or q\n",
    "    B = r\n",
    "    return not A or B"
   ]
  },
  {
   "cell_type": "code",
   "execution_count": 67,
   "id": "88573a4e-2185-406c-bab6-a818a6bf41af",
   "metadata": {},
   "outputs": [],
   "source": [
    "#caso B.c.\n",
    "def SimpleBc(p, q , r):\n",
    "    A = p\n",
    "    B = not q or r\n",
    "    return A and B"
   ]
  },
  {
   "cell_type": "code",
   "execution_count": 69,
   "id": "328c3c6a-9b23-4475-8671-8114700d2dd1",
   "metadata": {},
   "outputs": [],
   "source": [
    "#caso B.d.\n",
    "def SimpleBd(p, q , r):\n",
    "    A = p\n",
    "    B = not q or r\n",
    "    return (A and B) \\\n",
    "    or (not A and not B)"
   ]
  },
  {
   "cell_type": "code",
   "execution_count": null,
   "id": "62984f92-1692-4393-aa89-042b21b5d16c",
   "metadata": {},
   "outputs": [],
   "source": [
    "#caso A.a.\n",
    "def SimpleAa(p, q , r):\n",
    "    A = p and q\n",
    "    B = r\n",
    "    return not A or B \n"
   ]
  },
  {
   "cell_type": "code",
   "execution_count": 25,
   "id": "03758353-622a-4376-a78a-93e06e2c9f5c",
   "metadata": {},
   "outputs": [],
   "source": [
    "#caso A.b.\n",
    "def SimpleAb(p, q , r):\n",
    "    A = p or q\n",
    "    B = r\n",
    "    return (A and B) \\\n",
    "    or (not A and not B)"
   ]
  },
  {
   "cell_type": "code",
   "execution_count": 27,
   "id": "9a373b60-23a1-4c76-9aed-a59001b446e2",
   "metadata": {},
   "outputs": [],
   "source": [
    "#caso A.c.\n",
    "def SimpleAc(p, q , r):\n",
    "    A = p\n",
    "    B = not q or r\n",
    "    return A and B"
   ]
  },
  {
   "cell_type": "code",
   "execution_count": 47,
   "id": "e1138f1e-1d2a-4de2-b6b6-1a555edb5617",
   "metadata": {},
   "outputs": [],
   "source": [
    "#caso A.d.\n",
    "def SimpleAd(p, q , r):\n",
    "    A = q\n",
    "    B = r\n",
    "    return not p \\\n",
    "    or ((A and B) \\\n",
    "    or (not A and not B))"
   ]
  },
  {
   "cell_type": "code",
   "execution_count": null,
   "id": "f6c7cfdf-4460-49ff-a1bf-2498472d432c",
   "metadata": {},
   "outputs": [],
   "source": []
  }
 ],
 "metadata": {
  "kernelspec": {
   "display_name": "Python 3",
   "language": "python",
   "name": "python3"
  },
  "language_info": {
   "codemirror_mode": {
    "name": "ipython",
    "version": 3
   },
   "file_extension": ".py",
   "mimetype": "text/x-python",
   "name": "python",
   "nbconvert_exporter": "python",
   "pygments_lexer": "ipython3",
   "version": "3.9.0"
  }
 },
 "nbformat": 4,
 "nbformat_minor": 5
}
